{
 "cells": [
  {
   "cell_type": "code",
   "execution_count": 2,
   "metadata": {
    "collapsed": true,
    "ExecuteTime": {
     "end_time": "2024-04-14T17:33:51.821319900Z",
     "start_time": "2024-04-14T17:33:51.815523100Z"
    }
   },
   "outputs": [],
   "source": [
    "from transformers import T5ForConditionalGeneration, T5Tokenizer\n",
    "import torch"
   ]
  },
  {
   "cell_type": "code",
   "execution_count": 7,
   "outputs": [
    {
     "data": {
      "text/plain": "'cuda'"
     },
     "execution_count": 7,
     "metadata": {},
     "output_type": "execute_result"
    }
   ],
   "source": [
    "device = \"cuda\"\n",
    "device"
   ],
   "metadata": {
    "collapsed": false,
    "ExecuteTime": {
     "end_time": "2024-04-14T17:38:48.272996500Z",
     "start_time": "2024-04-14T17:38:48.266996800Z"
    }
   }
  },
  {
   "cell_type": "code",
   "execution_count": 50,
   "outputs": [
    {
     "name": "stderr",
     "output_type": "stream",
     "text": [
      "Downloading config.json: 100%|██████████| 1.21k/1.21k [00:00<?, ?B/s]\n",
      "Downloading model.safetensors: 100%|██████████| 242M/242M [00:05<00:00, 43.4MB/s] \n",
      "Downloading generation_config.json: 100%|██████████| 147/147 [00:00<?, ?B/s] \n",
      "Downloading spiece.model: 100%|██████████| 792k/792k [00:00<00:00, 10.7MB/s]\n",
      "Downloading tokenizer_config.json: 100%|██████████| 2.32k/2.32k [00:00<00:00, 2.34MB/s]\n"
     ]
    }
   ],
   "source": [
    "# Load model and tokenizer\n",
    "\n",
    "model_name = 't5-small'\n",
    "model = T5ForConditionalGeneration.from_pretrained(model_name, return_dict=True)\n",
    "model.to(device)\n",
    "tokenizer = T5Tokenizer.from_pretrained(model_name)"
   ],
   "metadata": {
    "collapsed": false,
    "ExecuteTime": {
     "end_time": "2024-04-14T18:02:46.333298Z",
     "start_time": "2024-04-14T18:02:38.054135400Z"
    }
   }
  },
  {
   "cell_type": "code",
   "execution_count": 54,
   "outputs": [
    {
     "name": "stdout",
     "output_type": "stream",
     "text": [
      "['Ich ging letzte Woche nach Hongkong, das Wetter dort ist groß und ich ging an']\n"
     ]
    }
   ],
   "source": [
    "task = \"translate English to German\"\n",
    "query = \"I went to Hong Kong last week, the weather there is great and I went to lots of places\"\n",
    "src_text = task + query\n",
    "\n",
    "input_ids = tokenizer(src_text, return_tensors=\"pt\")\n",
    "generated_tokens = model.generate(**input_ids.to(device))\n",
    "result = tokenizer.batch_decode(generated_tokens, skip_special_tokens=True)\n",
    "print(result)"
   ],
   "metadata": {
    "collapsed": false,
    "ExecuteTime": {
     "end_time": "2024-04-14T18:06:57.510491700Z",
     "start_time": "2024-04-14T18:06:56.839545100Z"
    }
   }
  },
  {
   "cell_type": "code",
   "execution_count": null,
   "outputs": [],
   "source": [],
   "metadata": {
    "collapsed": false
   }
  }
 ],
 "metadata": {
  "kernelspec": {
   "display_name": "Python 3",
   "language": "python",
   "name": "python3"
  },
  "language_info": {
   "codemirror_mode": {
    "name": "ipython",
    "version": 2
   },
   "file_extension": ".py",
   "mimetype": "text/x-python",
   "name": "python",
   "nbconvert_exporter": "python",
   "pygments_lexer": "ipython2",
   "version": "2.7.6"
  }
 },
 "nbformat": 4,
 "nbformat_minor": 0
}

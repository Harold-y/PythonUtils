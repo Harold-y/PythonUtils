{
 "cells": [
  {
   "cell_type": "markdown",
   "source": [
    "## ResNet\n",
    "\n",
    "The Residual Net (https://arxiv.org/pdf/1512.03385.pdf) by He, et al. (2015) which is a novel paper that introduced a new convolutional neural network structure called ResNet. The main different is the building block of this network: residual building block (also called skip connection). By combining the original input x together with the output, the gradients could be better passed and thus enable easier training process for larger and deeper neural networks.\n",
    "\n",
    "<br/>\n",
    "\n",
    "<img src=\"./images/resnet_block.png\"/>\n",
    "\n",
    "This is done by a function $y = F(x, {W_{i}}) + x$"
   ],
   "metadata": {
    "collapsed": false
   }
  },
  {
   "cell_type": "code",
   "execution_count": 25,
   "outputs": [],
   "source": [
    "import numpy as np\n",
    "import torch\n",
    "from torch import nn\n",
    "from torch.utils.data import DataLoader\n",
    "from torchvision import datasets\n",
    "from torchvision import transforms\n",
    "from torch.nn import functional as F\n",
    "import matplotlib.pyplot as plt\n",
    "import math"
   ],
   "metadata": {
    "collapsed": false,
    "ExecuteTime": {
     "end_time": "2024-04-14T16:53:12.029149500Z",
     "start_time": "2024-04-14T16:53:12.023648200Z"
    }
   }
  },
  {
   "cell_type": "code",
   "execution_count": 2,
   "outputs": [
    {
     "data": {
      "text/plain": "device(type='cuda')"
     },
     "execution_count": 2,
     "metadata": {},
     "output_type": "execute_result"
    }
   ],
   "source": [
    "device = torch.device(\"cuda\" if torch.cuda.is_available() else \"cpu\")\n",
    "torch.set_default_device(device)\n",
    "device"
   ],
   "metadata": {
    "collapsed": false,
    "ExecuteTime": {
     "end_time": "2024-04-14T16:03:34.183609100Z",
     "start_time": "2024-04-14T16:03:34.137715500Z"
    }
   }
  },
  {
   "cell_type": "code",
   "execution_count": 3,
   "outputs": [
    {
     "name": "stdout",
     "output_type": "stream",
     "text": [
      "Files already downloaded and verified\n",
      "Files already downloaded and verified\n"
     ]
    }
   ],
   "source": [
    "batch_size = 64\n",
    "\n",
    "transform_train = transforms.Compose([\n",
    "    transforms.RandomCrop(32, padding=4),\n",
    "    transforms.RandomHorizontalFlip(),\n",
    "    transforms.ToTensor(),\n",
    "    transforms.Normalize((0.4914, 0.4822, 0.4465), (0.2023, 0.1994, 0.2010)),\n",
    "])\n",
    "\n",
    "transform_test = transforms.Compose([\n",
    "    transforms.ToTensor(),\n",
    "    transforms.Normalize((0.4914, 0.4822, 0.4465), (0.2023, 0.1994, 0.2010)),\n",
    "])\n",
    "\n",
    "loss_list = []\n",
    "accuracy_list = []\n",
    "epoch_list = []\n",
    "\n",
    "train_data = datasets.CIFAR10(root='./resources/cifar10', train=True, transform=transform_train, download=True)\n",
    "test_dataset = datasets.CIFAR10(root='./resources/cifar10', train=False, transform=transform_test, download=True)\n",
    "train_loader = DataLoader(train_data, batch_size=batch_size, shuffle=True, generator=torch.Generator(device=device))\n",
    "test_loader = DataLoader(test_dataset, batch_size=batch_size, shuffle=False, generator=torch.Generator(device=device))"
   ],
   "metadata": {
    "collapsed": false,
    "ExecuteTime": {
     "end_time": "2024-04-14T16:03:35.429470200Z",
     "start_time": "2024-04-14T16:03:34.189593Z"
    }
   }
  },
  {
   "cell_type": "code",
   "execution_count": 4,
   "outputs": [
    {
     "data": {
      "text/plain": "(torch.Size([64, 3, 32, 32]), torch.Size([64]))"
     },
     "execution_count": 4,
     "metadata": {},
     "output_type": "execute_result"
    }
   ],
   "source": [
    "# CIFAR-10 dataset consists of 32 * 32 RGB channel images.\n",
    "# because batch size is 64, the inputs shape should be (batch, channel, height, width), which is (64, 3, 32, 32)\n",
    "\n",
    "inputs, classes = next(iter(train_loader))\n",
    "inputs.shape, classes.shape"
   ],
   "metadata": {
    "collapsed": false,
    "ExecuteTime": {
     "end_time": "2024-04-14T16:03:36.367484400Z",
     "start_time": "2024-04-14T16:03:35.429470200Z"
    }
   }
  },
  {
   "cell_type": "markdown",
   "source": [
    "## The Identity Mapping by Shortcuts\n",
    "\n",
    "The residual nets adopt identity mappings that can let the gradients pass more conveniently and also have some other benefits.\n",
    "\n",
    "$y = F(x, {W_{i}}) + x$\n",
    "\n",
    "The output dimension after doing a convolution computation ($F(x, {W_{i}})$) should be the same as the dimension of $x$, and the final result of y is computed by element-wise addition of these two and then pass into the relu function."
   ],
   "metadata": {
    "collapsed": false
   }
  },
  {
   "cell_type": "code",
   "execution_count": 5,
   "outputs": [],
   "source": [
    "class ResidualBlock(nn.Module):\n",
    "    def __init__(self, channels):\n",
    "        super(ResidualBlock, self).__init__()\n",
    "        self.channels = channels\n",
    "        self.conv1 = nn.Conv2d(channels, channels, kernel_size=3, padding=1)\n",
    "        self.conv2 = nn.Conv2d(channels, channels, kernel_size=3, padding=1)\n",
    "\n",
    "    def forward(self, x):\n",
    "        print(\"x\", x.shape)\n",
    "        y = F.relu(self.conv1(x))\n",
    "        print(\"y1\", y.shape)\n",
    "        y = self.conv2(y)\n",
    "        print(\"y2\", y.shape)\n",
    "        return F.relu(x + y)"
   ],
   "metadata": {
    "collapsed": false,
    "ExecuteTime": {
     "end_time": "2024-04-14T16:03:36.383205900Z",
     "start_time": "2024-04-14T16:03:36.362605200Z"
    }
   }
  },
  {
   "cell_type": "code",
   "execution_count": 6,
   "outputs": [
    {
     "name": "stdout",
     "output_type": "stream",
     "text": [
      "x torch.Size([1, 3, 32, 32])\n",
      "y1 torch.Size([1, 3, 32, 32])\n",
      "y2 torch.Size([1, 3, 32, 32])\n"
     ]
    },
    {
     "data": {
      "text/plain": "torch.Size([1, 3, 32, 32])"
     },
     "execution_count": 6,
     "metadata": {},
     "output_type": "execute_result"
    }
   ],
   "source": [
    "rand_x = torch.zeros(size=(1, 3, 32, 32))\n",
    "tst_rs_block = ResidualBlock(3)\n",
    "rand_res_x = tst_rs_block(rand_x)\n",
    "rand_res_x.shape"
   ],
   "metadata": {
    "collapsed": false,
    "ExecuteTime": {
     "end_time": "2024-04-14T16:03:37.832859100Z",
     "start_time": "2024-04-14T16:03:36.378207Z"
    }
   }
  },
  {
   "cell_type": "markdown",
   "source": [
    "## The Identity Mapping changing channel\n",
    "\n",
    "When channel changes, we do a 1x1 convolution with stride 2 to achieve the match of output size (see JumpChannelResidualBlock) (we must operate on x in order to keep the x as same dimension as output of $F(x, W_{i})$. Also, we see difference between JumpChannelResidualBlock and ResidualBlock in parameters, this is because in the original paper when the dimension is increased, the output size (height * width) is reduced and there is a convolutional block of stride 2 each time.\n",
    "\n",
    "<br/>\n",
    "<img src=\"./images/resnet_jump.png\"/>\n",
    "\n",
    "Here we can observe that when the network jumps from 64 channels of output size 56 * 56 to 128 channels of output size 28 * 28, the channel # is doubled and output size width or height is halfed. We compute the padding required based on this."
   ],
   "metadata": {
    "collapsed": false
   }
  },
  {
   "cell_type": "code",
   "execution_count": 7,
   "outputs": [],
   "source": [
    "class ResidualBlock(nn.Module):\n",
    "    def __init__(self, channels):\n",
    "        super(ResidualBlock, self).__init__()\n",
    "        self.conv1 = nn.Conv2d(channels, channels, kernel_size=3, padding=1)\n",
    "        self.conv2 = nn.Conv2d(channels, channels, kernel_size=3, padding=1)\n",
    "\n",
    "    def forward(self, x):\n",
    "        y = F.relu(self.conv1(x))\n",
    "        y = self.conv2(y)\n",
    "        return F.relu(x + y)\n",
    "\n",
    "class JumpChannelResidualBlock(nn.Module):\n",
    "    def __init__(self, in_channels, out_channels, in_size, out_size):\n",
    "        super(JumpChannelResidualBlock, self).__init__()\n",
    "        self.conv1 = nn.Conv2d(in_channels, out_channels, kernel_size=3, padding=math.ceil(2 * out_size + 1 - in_size), stride=2)\n",
    "        self.conv2 = nn.Conv2d(out_channels, out_channels, kernel_size=3, padding=1)\n",
    "        self.pad_channel_1x1_conv = nn.Conv2d(in_channels, out_channels, kernel_size=1, stride=2)\n",
    "\n",
    "    def forward(self, x):\n",
    "        y = F.relu(self.conv1(x))\n",
    "        y = self.conv2(y)\n",
    "        x = self.pad_channel_1x1_conv(x)\n",
    "        return F.relu(x + y)"
   ],
   "metadata": {
    "collapsed": false,
    "ExecuteTime": {
     "end_time": "2024-04-14T16:03:37.858397100Z",
     "start_time": "2024-04-14T16:03:37.830858800Z"
    }
   }
  },
  {
   "cell_type": "markdown",
   "source": [
    "## ResNet 18\n",
    "\n",
    "Here we implement an example of ResNet 18. See the layer settings in the below chart from the original ResNet paper (https://arxiv.org/pdf/1512.03385.pdf)\n",
    "<br/>\n",
    "\n",
    "<img src=\"./images/resnet_layer.png\"/>"
   ],
   "metadata": {
    "collapsed": false
   }
  },
  {
   "cell_type": "code",
   "execution_count": 8,
   "outputs": [],
   "source": [
    "# Assume square images, height=width\n",
    "\n",
    "class ResNet18(nn.Module):\n",
    "    def __init__(self, in_height, in_channel, num_out_classes):\n",
    "        super(ResNet18, self).__init__()\n",
    "        self.in_height = in_height\n",
    "        self.in_channel = in_channel\n",
    "\n",
    "        self.conv1 = nn.Conv2d(in_channels=in_channel, out_channels=64, kernel_size=7, stride=2, padding=math.ceil((229-in_height) / 2))\n",
    "\n",
    "        self.pool1 = nn.MaxPool2d(kernel_size=3, stride=2, padding=1)\n",
    "\n",
    "        self.conv2_1 = ResidualBlock(channels=64)\n",
    "        self.conv2_2 = ResidualBlock(channels=64)\n",
    "\n",
    "        self.conv3_1 = JumpChannelResidualBlock(in_channels=64, out_channels=128, in_size=56, out_size=28)\n",
    "        self.conv3_2 = ResidualBlock(channels=128)\n",
    "\n",
    "        self.conv4_1 = JumpChannelResidualBlock(in_channels=128, out_channels=256, in_size=28, out_size=14)\n",
    "        self.conv4_2 = ResidualBlock(channels=256)\n",
    "\n",
    "        self.conv5_1 = JumpChannelResidualBlock(in_channels=256, out_channels=512, in_size=14, out_size=7)\n",
    "        self.conv5_2 = ResidualBlock(channels=512)\n",
    "\n",
    "        self.pool2 = torch.nn.AvgPool2d(kernel_size = 7)  # global average pooling on 512 dimensions: average every 7 * 7 pixels on each dimension to\n",
    "        # a single pixel, so 512 * 7 * 7 -> 512\n",
    "\n",
    "        self.fc1 = nn.Linear(512, 1000)\n",
    "        self.fc2 = nn.Linear(1000, num_out_classes)\n",
    "\n",
    "\n",
    "    def forward(self, x):\n",
    "        x = F.relu(self.conv1(x))\n",
    "        x = self.pool1(x)\n",
    "        x = self.conv2_1(x)\n",
    "        x = self.conv2_2(x)\n",
    "        x = self.conv3_1(x)\n",
    "        x = self.conv3_2(x)\n",
    "        x = self.conv4_1(x)\n",
    "        x = self.conv4_2(x)\n",
    "        x = self.conv5_1(x)\n",
    "        x = self.conv5_2(x)\n",
    "        x = self.pool2(x)\n",
    "        x = x.view(-1, 512)\n",
    "        x = F.relu(self.fc1(x))\n",
    "        x = self.fc2(x)\n",
    "        return x"
   ],
   "metadata": {
    "collapsed": false,
    "ExecuteTime": {
     "end_time": "2024-04-14T16:03:37.861395500Z",
     "start_time": "2024-04-14T16:03:37.843885500Z"
    }
   }
  },
  {
   "cell_type": "code",
   "execution_count": 9,
   "outputs": [
    {
     "data": {
      "text/plain": "torch.Size([1, 10])"
     },
     "execution_count": 9,
     "metadata": {},
     "output_type": "execute_result"
    }
   ],
   "source": [
    "# Run a test example\n",
    "\n",
    "rand_x2 = torch.zeros(size=(1, 3, 32, 32))\n",
    "tst_res18 = ResNet18(32, 3, num_out_classes=10)\n",
    "tst_res18_out1 = tst_res18(rand_x2)\n",
    "tst_res18_out1.shape"
   ],
   "metadata": {
    "collapsed": false,
    "ExecuteTime": {
     "end_time": "2024-04-14T16:03:37.906395700Z",
     "start_time": "2024-04-14T16:03:37.861395500Z"
    }
   }
  },
  {
   "cell_type": "code",
   "execution_count": 10,
   "outputs": [],
   "source": [
    "model = ResNet18(in_height=32, in_channel=3, num_out_classes=10)\n",
    "criterion = torch.nn.CrossEntropyLoss()\n",
    "optimizer = torch.optim.Adam(model.parameters())"
   ],
   "metadata": {
    "collapsed": false,
    "ExecuteTime": {
     "end_time": "2024-04-14T16:03:37.926412200Z",
     "start_time": "2024-04-14T16:03:37.906395700Z"
    }
   }
  },
  {
   "cell_type": "code",
   "execution_count": 11,
   "outputs": [],
   "source": [
    "def train(epoch):\n",
    "    running_loss = 0.0\n",
    "    for batch_index, data in enumerate(train_loader, 0):\n",
    "        inputs, target = data\n",
    "        inputs, target = inputs.to(device), target.to(device)\n",
    "        optimizer.zero_grad()\n",
    "\n",
    "        # forward, backward, update\n",
    "        outputs = model(inputs)\n",
    "        loss = criterion(outputs, target)\n",
    "        loss.backward()\n",
    "        optimizer.step()\n",
    "\n",
    "        running_loss += loss.item()\n",
    "\n",
    "        if batch_index % 300 == 299:\n",
    "            print('[%d, %d] loss: %.3f' % (epoch + 1, batch_index + 1, running_loss / 300))\n",
    "            running_loss = 0.0\n",
    "\n",
    "\n",
    "def run_test_sets():\n",
    "    correct = 0\n",
    "    total = 0\n",
    "    with torch.no_grad():\n",
    "        for data in test_loader:\n",
    "            images, labels = data\n",
    "            images, labels = images.to(device), labels.to(device)\n",
    "\n",
    "            outputs = model(images)\n",
    "            _, predicts = torch.max(outputs.data, dim=1)\n",
    "            total += labels.size(0)\n",
    "            correct += (predicts == labels).sum().item()\n",
    "\n",
    "    print('Accuracy on test sets: %d%%' % (100 * correct / total))"
   ],
   "metadata": {
    "collapsed": false,
    "ExecuteTime": {
     "end_time": "2024-04-14T16:03:37.965615300Z",
     "start_time": "2024-04-14T16:03:37.925396900Z"
    }
   }
  },
  {
   "cell_type": "code",
   "execution_count": 12,
   "outputs": [
    {
     "name": "stdout",
     "output_type": "stream",
     "text": [
      "[1, 300] loss: 2.087\n",
      "[1, 600] loss: 1.891\n",
      "Accuracy on test sets: 33%\n",
      "[2, 300] loss: 1.646\n",
      "[2, 600] loss: 1.567\n",
      "Accuracy on test sets: 46%\n",
      "[3, 300] loss: 1.440\n",
      "[3, 600] loss: 1.356\n",
      "Accuracy on test sets: 54%\n",
      "[4, 300] loss: 1.260\n",
      "[4, 600] loss: 1.215\n",
      "Accuracy on test sets: 59%\n",
      "[5, 300] loss: 1.150\n",
      "[5, 600] loss: 1.133\n",
      "Accuracy on test sets: 61%\n",
      "[6, 300] loss: 1.080\n",
      "[6, 600] loss: 1.058\n",
      "Accuracy on test sets: 63%\n",
      "[7, 300] loss: 1.020\n",
      "[7, 600] loss: 0.999\n",
      "Accuracy on test sets: 67%\n",
      "[8, 300] loss: 0.963\n",
      "[8, 600] loss: 0.955\n",
      "Accuracy on test sets: 66%\n",
      "[9, 300] loss: 0.916\n",
      "[9, 600] loss: 0.943\n",
      "Accuracy on test sets: 68%\n",
      "[10, 300] loss: 0.897\n",
      "[10, 600] loss: 0.898\n",
      "Accuracy on test sets: 69%\n",
      "[11, 300] loss: 0.864\n",
      "[11, 600] loss: 0.877\n",
      "Accuracy on test sets: 70%\n",
      "[12, 300] loss: 0.841\n",
      "[12, 600] loss: 0.845\n",
      "Accuracy on test sets: 70%\n",
      "[13, 300] loss: 0.821\n",
      "[13, 600] loss: 0.825\n",
      "Accuracy on test sets: 71%\n",
      "[14, 300] loss: 0.808\n",
      "[14, 600] loss: 0.799\n",
      "Accuracy on test sets: 73%\n",
      "[15, 300] loss: 0.787\n",
      "[15, 600] loss: 0.790\n",
      "Accuracy on test sets: 72%\n"
     ]
    }
   ],
   "source": [
    "for epoch in range(20):\n",
    "    train(epoch)\n",
    "    run_test_sets()"
   ],
   "metadata": {
    "collapsed": false,
    "ExecuteTime": {
     "end_time": "2024-04-14T16:33:14.906763600Z",
     "start_time": "2024-04-14T16:03:37.938400900Z"
    }
   }
  },
  {
   "cell_type": "code",
   "execution_count": 56,
   "outputs": [
    {
     "data": {
      "text/plain": "(torch.Size([64, 3, 32, 32]), torch.Size([64]))"
     },
     "execution_count": 56,
     "metadata": {},
     "output_type": "execute_result"
    }
   ],
   "source": [
    "inputs, classes = next(iter(test_loader))\n",
    "inputs, classes = inputs.to(device), classes.to(device)\n",
    "inputs.shape, classes.shape"
   ],
   "metadata": {
    "collapsed": false,
    "ExecuteTime": {
     "end_time": "2024-04-14T17:02:12.942181900Z",
     "start_time": "2024-04-14T17:02:12.912473500Z"
    }
   }
  },
  {
   "cell_type": "code",
   "execution_count": 57,
   "outputs": [
    {
     "data": {
      "text/plain": "torch.Size([64, 10])"
     },
     "execution_count": 57,
     "metadata": {},
     "output_type": "execute_result"
    }
   ],
   "source": [
    "model.eval()\n",
    "model_preds = model(inputs)\n",
    "model_preds.shape"
   ],
   "metadata": {
    "collapsed": false,
    "ExecuteTime": {
     "end_time": "2024-04-14T17:02:13.662090300Z",
     "start_time": "2024-04-14T17:02:13.635172400Z"
    }
   }
  },
  {
   "cell_type": "code",
   "execution_count": 58,
   "outputs": [
    {
     "data": {
      "text/plain": "torch.Size([64])"
     },
     "execution_count": 58,
     "metadata": {},
     "output_type": "execute_result"
    }
   ],
   "source": [
    "_, predicts = torch.max(model_preds.data, dim=1)\n",
    "predicts.shape"
   ],
   "metadata": {
    "collapsed": false,
    "ExecuteTime": {
     "end_time": "2024-04-14T17:02:14.204363200Z",
     "start_time": "2024-04-14T17:02:14.191854Z"
    }
   }
  },
  {
   "cell_type": "code",
   "execution_count": 59,
   "outputs": [],
   "source": [
    "# Then we can compare the predicted from model and the real labels\n",
    "\n",
    "total_classes = ('plane', 'car', 'bird', 'cat',\n",
    "           'deer', 'dog', 'frog', 'horse', 'ship', 'truck')\n",
    "\n",
    "def see_one_comparison(x, y, predictions, index):\n",
    "    x = x[index]\n",
    "    y = y[index]\n",
    "    prediction = predictions[index]\n",
    "\n",
    "    print(f\"Real Label: {total_classes[int(y)]} predicted label: {total_classes[int(prediction)]}\")\n",
    "\n",
    "    x = x.squeeze(0)\n",
    "    print(x.shape)\n",
    "    x = x.permute(1, 2, 0)  # (3, 32, 32) -> (32, 32, 3)\n",
    "    print(x.shape)\n",
    "    plt.imshow(x.cpu().detach().numpy())"
   ],
   "metadata": {
    "collapsed": false,
    "ExecuteTime": {
     "end_time": "2024-04-14T17:02:15.480428800Z",
     "start_time": "2024-04-14T17:02:15.466571500Z"
    }
   }
  },
  {
   "cell_type": "code",
   "execution_count": 60,
   "outputs": [
    {
     "name": "stderr",
     "output_type": "stream",
     "text": [
      "Clipping input data to the valid range for imshow with RGB data ([0..1] for floats or [0..255] for integers).\n"
     ]
    },
    {
     "name": "stdout",
     "output_type": "stream",
     "text": [
      "Real Label: cat predicted label: cat\n",
      "torch.Size([3, 32, 32])\n",
      "torch.Size([32, 32, 3])\n"
     ]
    },
    {
     "data": {
      "text/plain": "<Figure size 640x480 with 1 Axes>",
      "image/png": "[encoded data removed]"
     },
     "metadata": {},
     "output_type": "display_data"
    }
   ],
   "source": [
    "see_one_comparison(inputs, classes, predicts, 0)"
   ],
   "metadata": {
    "collapsed": false,
    "ExecuteTime": {
     "end_time": "2024-04-14T17:02:16.076392900Z",
     "start_time": "2024-04-14T17:02:15.984330400Z"
    }
   }
  },
  {
   "cell_type": "code",
   "execution_count": 61,
   "outputs": [
    {
     "name": "stderr",
     "output_type": "stream",
     "text": [
      "Clipping input data to the valid range for imshow with RGB data ([0..1] for floats or [0..255] for integers).\n"
     ]
    },
    {
     "name": "stdout",
     "output_type": "stream",
     "text": [
      "Real Label: ship predicted label: ship\n",
      "torch.Size([3, 32, 32])\n",
      "torch.Size([32, 32, 3])\n"
     ]
    },
    {
     "data": {
      "text/plain": "<Figure size 640x480 with 1 Axes>",
      "image/png": "[encoded data removed]"
     },
     "metadata": {},
     "output_type": "display_data"
    }
   ],
   "source": [
    "see_one_comparison(inputs, classes, predicts, 1)"
   ],
   "metadata": {
    "collapsed": false,
    "ExecuteTime": {
     "end_time": "2024-04-14T17:02:20.625742700Z",
     "start_time": "2024-04-14T17:02:20.533838400Z"
    }
   }
  },
  {
   "cell_type": "code",
   "execution_count": 62,
   "outputs": [
    {
     "name": "stderr",
     "output_type": "stream",
     "text": [
      "Clipping input data to the valid range for imshow with RGB data ([0..1] for floats or [0..255] for integers).\n"
     ]
    },
    {
     "name": "stdout",
     "output_type": "stream",
     "text": [
      "Real Label: ship predicted label: ship\n",
      "torch.Size([3, 32, 32])\n",
      "torch.Size([32, 32, 3])\n"
     ]
    },
    {
     "data": {
      "text/plain": "<Figure size 640x480 with 1 Axes>",
      "image/png": "[encoded data removed]"
     },
     "metadata": {},
     "output_type": "display_data"
    }
   ],
   "source": [
    "see_one_comparison(inputs, classes, predicts, 2)"
   ],
   "metadata": {
    "collapsed": false,
    "ExecuteTime": {
     "end_time": "2024-04-14T17:02:22.509057200Z",
     "start_time": "2024-04-14T17:02:22.421075800Z"
    }
   }
  },
  {
   "cell_type": "code",
   "execution_count": null,
   "outputs": [],
   "source": [],
   "metadata": {
    "collapsed": false
   }
  }
 ],
 "metadata": {
  "kernelspec": {
   "display_name": "Python 3",
   "language": "python",
   "name": "python3"
  },
  "language_info": {
   "codemirror_mode": {
    "name": "ipython",
    "version": 2
   },
   "file_extension": ".py",
   "mimetype": "text/x-python",
   "name": "python",
   "nbconvert_exporter": "python",
   "pygments_lexer": "ipython2",
   "version": "2.7.6"
  }
 },
 "nbformat": 4,
 "nbformat_minor": 0
}

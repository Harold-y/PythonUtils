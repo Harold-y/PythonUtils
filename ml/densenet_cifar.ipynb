{
 "cells": [
  {
   "cell_type": "markdown",
   "metadata": {},
   "source": [
    "## DenseNet\n",
    "\n",
    "DenseNet is a convolutional neural network structure that proposed by Huang et al. (2016). The link is https://arxiv.org/abs/1608.06993. Dense Connections concat channel layers on top of each other so that the gradient passing is more convenient similar to the idea of ResNet. Also, the information can be accumulated and provide better intuition for later layers to make predictions.\n",
    "\n",
    "### Structure\n",
    "DenseNet uses \"densely-connected\" blocks.\n",
    "\n",
    "Assume that l is the index of current layer, $H_{ℓ}(·)$ can be a composite function of operations such as Batch Normalization (BN), rectified linear units (ReLU), Pooling, or Convolution (Conv). They denote the output of the ℓth layer as $x_{ℓ}$.\n",
    "\n",
    "$x_{ℓ} = H_{ℓ}([x_{0},x_{1},...,x_{ℓ−1}])$\n",
    "\n",
    "where $[x0,x1,...,x_{ℓ−1}]$ refers to the concatenation of the feature-maps produced in layers $0$,...,$ℓ−1$\n",
    "\n",
    "<br/>\n",
    "<br/>\n",
    "\n",
    "<img src=\"./images/DN1.png\" style=\"zoom:35%;\"/>\n",
    "\n",
    "<img src=\"./images/DN2.png\" style=\"zoom:100%;\"/>"
   ]
  },
  {
   "cell_type": "code",
   "execution_count": 1,
   "metadata": {},
   "outputs": [],
   "source": [
    "import numpy as np\n",
    "import torch\n",
    "from torch import nn\n",
    "from torch.utils.data import DataLoader\n",
    "from torchvision import datasets\n",
    "from torchvision import transforms\n",
    "from torch.nn import functional as F\n",
    "import matplotlib.pyplot as plt\n",
    "import math"
   ]
  },
  {
   "cell_type": "code",
   "execution_count": 2,
   "metadata": {},
   "outputs": [
    {
     "data": {
      "text/plain": "device(type='cuda')"
     },
     "execution_count": 2,
     "metadata": {},
     "output_type": "execute_result"
    }
   ],
   "source": [
    "device = torch.device(\"cuda\" if torch.cuda.is_available() else \"cpu\")\n",
    "torch.set_default_device(device)\n",
    "device"
   ]
  },
  {
   "cell_type": "markdown",
   "metadata": {},
   "source": [
    "## Dataset - CIFAR10\n",
    "\n",
    "CIFAR 10 is a dataset that contains 32 * 32 (W*H) * 3 (channel) images that can be categorized into 10 categories:\n",
    "('plane', 'car', 'bird', 'cat', 'deer', 'dog', 'frog', 'horse', 'ship', 'truck')"
   ]
  },
  {
   "cell_type": "code",
   "execution_count": 3,
   "metadata": {},
   "outputs": [
    {
     "name": "stdout",
     "output_type": "stream",
     "text": [
      "Files already downloaded and verified\n",
      "Files already downloaded and verified\n"
     ]
    }
   ],
   "source": [
    "batch_size = 128\n",
    "\n",
    "transform_train = transforms.Compose([\n",
    "    transforms.RandomCrop(32, padding=4),\n",
    "    transforms.RandomHorizontalFlip(),\n",
    "    transforms.ToTensor(),\n",
    "    transforms.Normalize((0.4914, 0.4822, 0.4465), (0.2023, 0.1994, 0.2010)),\n",
    "])\n",
    "\n",
    "transform_test = transforms.Compose([\n",
    "    transforms.ToTensor(),\n",
    "    transforms.Normalize((0.4914, 0.4822, 0.4465), (0.2023, 0.1994, 0.2010)),\n",
    "])\n",
    "\n",
    "loss_list = []\n",
    "accuracy_list = []\n",
    "epoch_list = []\n",
    "\n",
    "train_data = datasets.CIFAR10(root='./resources/cifar10', train=True, transform=transform_train, download=True)\n",
    "test_dataset = datasets.CIFAR10(root='./resources/cifar10', train=False, transform=transform_test, download=True)\n",
    "train_loader = DataLoader(train_data, batch_size=batch_size, shuffle=True, generator=torch.Generator(device=device))\n",
    "test_loader = DataLoader(test_dataset, batch_size=batch_size, shuffle=False, generator=torch.Generator(device=device))"
   ]
  },
  {
   "cell_type": "code",
   "execution_count": 4,
   "metadata": {},
   "outputs": [
    {
     "data": {
      "text/plain": "(torch.Size([128, 3, 32, 32]), torch.Size([128]))"
     },
     "execution_count": 4,
     "metadata": {},
     "output_type": "execute_result"
    }
   ],
   "source": [
    "# CIFAR-10 dataset consists of 32 * 32 RGB channel images.\n",
    "# because batch size is 64, the inputs shape should be (batch, channel, height, width), which is (64, 3, 32, 32)\n",
    "\n",
    "inputs, classes = next(iter(train_loader))\n",
    "inputs.shape, classes.shape"
   ]
  },
  {
   "cell_type": "code",
   "execution_count": 5,
   "metadata": {},
   "outputs": [
    {
     "data": {
      "text/plain": "torch.Size([2, 6, 2])"
     },
     "execution_count": 5,
     "metadata": {},
     "output_type": "execute_result"
    }
   ],
   "source": [
    "## Concat Tensors\n",
    "## Because we need to concat feature maps, we need to use functions in torch to concat tensors\n",
    "\n",
    "r1 = torch.randn(2, 3, 2)\n",
    "r2 = torch.randn(2, 3, 2)\n",
    "\n",
    "r3 = torch.cat((r1, r2), dim=1)\n",
    "r3.shape"
   ]
  },
  {
   "cell_type": "markdown",
   "metadata": {},
   "source": [
    "## BottleNeck, DenseBlock, and TransitionLayer\n",
    "\n",
    "### BottleNeck Layer\n",
    "\n",
    "BottleNeck layer is a small component that can be used to consist of a larger component named \"DenseBlock\". For the BottleNeck, below is a great illustration comes from (https://zhuanlan.zhihu.com/p/67311529). The input goes through a BatchNorm2D, a ReLU, and a Conv2D kernel 1*1, in_channel=in_channel, out_channel=4 * k, where k is the growth rate. Since we are keep concating layers in channel axis, the channel gets bigger and bigger. Each time we go through an BottleNeck layer, the channel goes from (in_channel) to (in_channel + k)\n",
    "<br/>\n",
    "\n",
    "<img src=\"./images/DN4.png\" style=\"zoom:45%;\"/>\n"
   ]
  },
  {
   "cell_type": "code",
   "execution_count": 6,
   "metadata": {},
   "outputs": [],
   "source": [
    "class BottleNeck(nn.Module):\n",
    "    def __init__(self, in_channels, k, p=0.05):\n",
    "        super(BottleNeck, self).__init__()\n",
    "        self.bn1 = nn.BatchNorm2d(in_channels)\n",
    "        self.conv1 = nn.Conv2d(in_channels=in_channels, out_channels=4 * k, kernel_size=1, stride=1, bias=False)\n",
    "\n",
    "        self.bn2 = nn.BatchNorm2d(4 * k)\n",
    "        self.conv2 = nn.Conv2d(in_channels=4 * k, out_channels=k, kernel_size=3, stride=1, padding=1, bias=False)\n",
    "\n",
    "        self.dropout = nn.Dropout2d(p)\n",
    "\n",
    "\n",
    "    def forward(self, x):\n",
    "        x1 = self.bn1(x)\n",
    "        x1 = F.relu(x1)\n",
    "        x1 = self.conv1(x1)\n",
    "\n",
    "        x2 = self.bn2(x1)\n",
    "        x2 = F.relu(x2)\n",
    "        x2 = self.conv2(x2)\n",
    "\n",
    "        x2 = self.dropout(x2)\n",
    "\n",
    "        return torch.cat((x2, x), dim=1)"
   ]
  },
  {
   "cell_type": "markdown",
   "metadata": {},
   "source": [
    "## DenseBlock\n",
    "\n",
    "DenseBlock is a sequential combination of BottleNeck Layers. In the following table provided by the original paper, for DenseNet121, first DenseBlock (1) consists of 6 BottleNeck Layers.\n",
    "\n",
    "<br/>\n",
    "\n",
    "<img src=\"./images/DN3.png\" style=\"zoom:75%;\"/>"
   ]
  },
  {
   "cell_type": "code",
   "execution_count": 7,
   "metadata": {},
   "outputs": [],
   "source": [
    "class DenseBlock(nn.Module):\n",
    "    def __init__(self, in_channels, num_dense_block, k):\n",
    "        super(DenseBlock, self).__init__()\n",
    "        self.bottleNecks = self._make_dense_layer(in_channels, num_dense_block, k)\n",
    "\n",
    "\n",
    "    def _make_dense_layer(self, in_channels, num_dense_block, k):\n",
    "        dm = []\n",
    "        for i in range(0, num_dense_block):\n",
    "            dm1 = BottleNeck(in_channels + (k * i), k)\n",
    "            dm.append(dm1)\n",
    "        return nn.Sequential(*dm)\n",
    "\n",
    "    def forward(self, x):\n",
    "        x = self.bottleNecks(x)\n",
    "\n",
    "        return x"
   ]
  },
  {
   "cell_type": "markdown",
   "metadata": {},
   "source": [
    "## Transition Layer\n",
    "\n",
    "Because we keep adding more layers by the growth rate after going through each BottleNeck Dense Connection, we would like to shrink the number of channel in each transitional layer. In the original paper, they shrink the num of channel by half for each transition layer go through. In the above table, there are 3 transition layers for DenseNet121."
   ]
  },
  {
   "cell_type": "code",
   "execution_count": 8,
   "metadata": {},
   "outputs": [],
   "source": [
    "class TransitionLayer(nn.Module):\n",
    "    def __init__(self, in_channels, out_channels, in_size, out_size):\n",
    "        super(TransitionLayer, self).__init__()\n",
    "        self.bn1 = nn.BatchNorm2d(in_channels)\n",
    "        self.conv1 = nn.Conv2d(in_channels=in_channels, out_channels=out_channels, kernel_size=1, bias=False)\n",
    "        self.avg_pool = nn.AvgPool2d(kernel_size=2, stride=2)\n",
    "\n",
    "\n",
    "    def forward(self, x):\n",
    "        x = F.relu(self.bn1(x))\n",
    "        x = self.conv1(x)\n",
    "        x = self.avg_pool(x)\n",
    "        return x"
   ]
  },
  {
   "cell_type": "markdown",
   "metadata": {},
   "source": [
    "# DenseNet121\n",
    "\n",
    "From the table below, we can observe the structure of the DenseNet121. It uses k (growth rate) as 32. It first go through a Conv2D with 7 * 7 kernel and stride 2. However, since the CIFAR-10 only has 32 * 32 in width and height, I think it is better to use a smaller kernel size and stride 1, so I made small modification. Also, since the image is too small, I didn't use the max pooling layer in the beginning. We also differ slightly for the output size (width * height) part, as I don't want to pad the 32 * 32 image to 112 * 112. So instead of going 112 * 112 -> 56 * 56 -> 28 * 28, etc., we are going from 32 * 32 -> 16 * 16 -> 8 * 8 -> 4 * 4 -> 1 * 1 -> fc layer.\n",
    "\n",
    "There are 3 (DenseBlock + Transition Layer) combinations and then there is a single DenseBlock (4) at the bottom. After that I made a batch norm which didn't appear in the original paper.  Then we will do a global average pooling (this means that we eliminate height and width dimensions by averaging them but keep the channel dimension for now). After that, we shrink the tensor to flat and pass that to 2 LinearLayers for classification.\n",
    "\n",
    "<br/>\n",
    "\n",
    "<img src=\"./images/DN3.png\" style=\"zoom:75%;\"/>"
   ]
  },
  {
   "cell_type": "code",
   "execution_count": 9,
   "metadata": {},
   "outputs": [],
   "source": [
    "class DenseNet121(nn.Module):\n",
    "    def __init__(self, in_channels, in_size, num_out_classes, num_init_channel=32, k=32):\n",
    "        super(DenseNet121, self).__init__()\n",
    "        self.conv1 = nn.Conv2d(in_channels=in_channels, out_channels=num_init_channel, kernel_size=3, stride=1, padding=math.ceil((34 - in_size) / 2), bias=False)\n",
    "\n",
    "        num_db1 = 6\n",
    "        num_output_channel1 = k * num_db1 + num_init_channel\n",
    "        num_output_channel_to_next1 = math.floor(num_output_channel1 / 2)\n",
    "        self.db1 = DenseBlock(in_channels=num_init_channel, num_dense_block=num_db1, k=k)\n",
    "        self.tl1 = TransitionLayer(in_channels=num_output_channel1, out_channels=num_output_channel_to_next1, in_size=32, out_size=16)\n",
    "\n",
    "        num_db2 = 12\n",
    "        num_output_channel2 = num_output_channel_to_next1 + k * num_db2\n",
    "        num_output_channel_to_next2 = math.floor(num_output_channel2 / 2)\n",
    "        self.db2 = DenseBlock(in_channels=num_output_channel_to_next1, num_dense_block=num_db2, k=k)\n",
    "        self.tl2 = TransitionLayer(in_channels=num_output_channel2, out_channels=num_output_channel_to_next2, in_size=16, out_size=8)\n",
    "\n",
    "        num_db3 = 24\n",
    "        num_output_channel3 = num_output_channel_to_next2 + k * num_db3\n",
    "        num_output_channel_to_next3 = math.floor(num_output_channel3 / 2)\n",
    "        self.db3 = DenseBlock(in_channels=num_output_channel_to_next2, num_dense_block=num_db3, k=k)\n",
    "        self.tl3 = TransitionLayer(in_channels=num_output_channel3, out_channels=num_output_channel_to_next3, in_size=8, out_size=4)\n",
    "\n",
    "        num_db4 = 16\n",
    "        num_output_channel4 = num_output_channel_to_next3 + k * num_db4\n",
    "        self.db4 = DenseBlock(in_channels=num_output_channel_to_next3, num_dense_block=num_db4, k=k)\n",
    "\n",
    "        self.pool2 = torch.nn.AvgPool2d(kernel_size = 4)  # global average pooling\n",
    "\n",
    "        self.bn1 = nn.BatchNorm2d(num_output_channel4)\n",
    "\n",
    "        self.fc1 = nn.Linear(num_output_channel4, 100)\n",
    "        self.fc2 = nn.Linear(100, num_out_classes)\n",
    "\n",
    "    def forward(self, x):\n",
    "        x = self.conv1(x)\n",
    "        print(f\"conv1, {x.shape}\")\n",
    "\n",
    "        x = self.db1(x)\n",
    "        print(f\"db1, {x.shape}\")\n",
    "        x = self.tl1(x)\n",
    "        print(f\"tl1, {x.shape}\")\n",
    "\n",
    "        x = self.db2(x)\n",
    "        print(f\"db2, {x.shape}\")\n",
    "        x = self.tl2(x)\n",
    "        print(f\"tl2, {x.shape}\")\n",
    "\n",
    "        x = self.db3(x)\n",
    "        print(f\"db3, {x.shape}\")\n",
    "        x = self.tl3(x)\n",
    "        print(f\"tl3, {x.shape}\")\n",
    "\n",
    "        x = self.db4(x)\n",
    "        print(f\"db4, {x.shape}\")\n",
    "\n",
    "        x = F.relu(self.bn1(x))\n",
    "        print(f\"bn1, {x.shape}\")\n",
    "\n",
    "        x = self.pool2(x)\n",
    "        print(f\"pool2, {x.shape}\")\n",
    "\n",
    "        x = x.view(x.size(0), -1)\n",
    "        x = F.relu(self.fc1(x))\n",
    "        print(f\"fc1, {x.shape}\")\n",
    "        x = self.fc2(x)\n",
    "        print(f\"fc2, {x.shape}\")\n",
    "\n",
    "        return x"
   ]
  },
  {
   "cell_type": "markdown",
   "metadata": {},
   "source": [
    "## Dimensions\n",
    "\n",
    "The most difficult thing in DL is to calculate dimensions. Please pay careful attention to the input's shape at each layer. Remember that the initial input dimension is (batch=1, num_channel=3, width=32, height=32)."
   ]
  },
  {
   "cell_type": "code",
   "execution_count": 10,
   "metadata": {},
   "outputs": [
    {
     "name": "stdout",
     "output_type": "stream",
     "text": [
      "conv1, torch.Size([1, 24, 32, 32])\n",
      "db1, torch.Size([1, 96, 32, 32])\n",
      "tl1, torch.Size([1, 48, 16, 16])\n",
      "db2, torch.Size([1, 144, 16, 16])\n",
      "tl2, torch.Size([1, 72, 8, 8])\n",
      "db3, torch.Size([1, 192, 8, 8])\n",
      "tl3, torch.Size([1, 96, 4, 4])\n",
      "db4, torch.Size([1, 168, 4, 4])\n",
      "bn1, torch.Size([1, 168, 4, 4])\n",
      "pool2, torch.Size([1, 168, 1, 1])\n",
      "fc1, torch.Size([1, 100])\n",
      "fc2, torch.Size([1, 10])\n"
     ]
    },
    {
     "data": {
      "text/plain": "torch.Size([1, 10])"
     },
     "execution_count": 10,
     "metadata": {},
     "output_type": "execute_result"
    }
   ],
   "source": [
    "# Run a test example\n",
    "\n",
    "rand_x2 = torch.zeros(size=(1, 3, 32, 32))\n",
    "tst_res18 = DenseNet121(in_channels=3, in_size=32, num_out_classes=10)\n",
    "tst_res18_out1 = tst_res18(rand_x2)\n",
    "tst_res18_out1.shape"
   ]
  },
  {
   "cell_type": "markdown",
   "metadata": {},
   "source": [
    "## Get Real\n",
    "\n",
    "Here we remove the print statement in the DenseNet. Also, I add softmax output and return with the original output together as a tuple."
   ]
  },
  {
   "cell_type": "code",
   "execution_count": 11,
   "metadata": {},
   "outputs": [],
   "source": [
    "class DenseNet121(nn.Module):\n",
    "    def __init__(self, in_channels, in_size, num_out_classes, num_init_channel=32, k=32):\n",
    "        super(DenseNet121, self).__init__()\n",
    "        self.conv1 = nn.Conv2d(in_channels=in_channels, out_channels=num_init_channel, kernel_size=3, stride=1, padding=math.ceil((34 - in_size) / 2), bias=False)\n",
    "\n",
    "        num_db1 = 6\n",
    "        num_output_channel1 = k * num_db1 + num_init_channel\n",
    "        num_output_channel_to_next1 = math.floor(num_output_channel1 / 2)\n",
    "        self.db1 = DenseBlock(in_channels=num_init_channel, num_dense_block=num_db1, k=k)\n",
    "        self.tl1 = TransitionLayer(in_channels=num_output_channel1, out_channels=num_output_channel_to_next1, in_size=32, out_size=16)\n",
    "\n",
    "        num_db2 = 12\n",
    "        num_output_channel2 = num_output_channel_to_next1 + k * num_db2\n",
    "        num_output_channel_to_next2 = math.floor(num_output_channel2 / 2)\n",
    "        self.db2 = DenseBlock(in_channels=num_output_channel_to_next1, num_dense_block=num_db2, k=k)\n",
    "        self.tl2 = TransitionLayer(in_channels=num_output_channel2, out_channels=num_output_channel_to_next2, in_size=16, out_size=8)\n",
    "\n",
    "        num_db3 = 24\n",
    "        num_output_channel3 = num_output_channel_to_next2 + k * num_db3\n",
    "        num_output_channel_to_next3 = math.floor(num_output_channel3 / 2)\n",
    "        self.db3 = DenseBlock(in_channels=num_output_channel_to_next2, num_dense_block=num_db3, k=k)\n",
    "        self.tl3 = TransitionLayer(in_channels=num_output_channel3, out_channels=num_output_channel_to_next3, in_size=8, out_size=4)\n",
    "\n",
    "        num_db4 = 16\n",
    "        num_output_channel4 = num_output_channel_to_next3 + k * num_db4\n",
    "        self.db4 = DenseBlock(in_channels=num_output_channel_to_next3, num_dense_block=num_db4, k=k)\n",
    "\n",
    "        self.pool2 = torch.nn.AvgPool2d(kernel_size = 4)  # global average pooling\n",
    "\n",
    "        self.bn1 = nn.BatchNorm2d(num_output_channel4)\n",
    "\n",
    "        self.fc1 = nn.Linear(num_output_channel4, 100)\n",
    "        self.fc2 = nn.Linear(100, num_out_classes)\n",
    "\n",
    "    def forward(self, x):\n",
    "        x = self.conv1(x)\n",
    "\n",
    "        x = self.db1(x)\n",
    "        x = self.tl1(x)\n",
    "\n",
    "        x = self.db2(x)\n",
    "        x = self.tl2(x)\n",
    "\n",
    "        x = self.db3(x)\n",
    "        x = self.tl3(x)\n",
    "\n",
    "        x = self.db4(x)\n",
    "\n",
    "        x = F.relu(self.bn1(x))\n",
    "\n",
    "        x = self.pool2(x)\n",
    "\n",
    "        x = x.view(x.size(0), -1)\n",
    "        x = F.relu(self.fc1(x))\n",
    "        x = self.fc2(x)\n",
    "\n",
    "        probas = F.softmax(x, dim=1)\n",
    "        return x, probas"
   ]
  },
  {
   "cell_type": "markdown",
   "metadata": {},
   "source": [
    "## Train and Test, going through Epochs\n",
    "\n",
    "Start to train using our DenseNet with Cifar-10 dataset. We will be using 0.1 as lr as suggested in the original paper. input size is width * height, which is 32 * 32. Input channel is 3 because we are doing RGB image, number of class is 10 (CIFAR-10 has 10 classes). We will choose momentum as 0.9 as convention, and a weight_decay."
   ]
  },
  {
   "cell_type": "code",
   "execution_count": 12,
   "metadata": {},
   "outputs": [],
   "source": [
    "current_lr = 0.1\n",
    "model = DenseNet121(in_channels=3, in_size=32, num_out_classes=10)\n",
    "model.to(device)\n",
    "criterion = torch.nn.CrossEntropyLoss()\n",
    "optimizer = torch.optim.SGD(model.parameters(), lr=current_lr, momentum=0.9, weight_decay=5e-4)"
   ]
  },
  {
   "cell_type": "markdown",
   "metadata": {},
   "source": [
    "## Code Credit\n",
    "\n",
    "This following chunk of code to do the accuracy, train and test is adapted from (https://github.com/rasbt/deeplearning-models/blob/master/pytorch_ipynb/cnn/cnn-densenet121-cifar10.ipynb)"
   ]
  },
  {
   "cell_type": "code",
   "execution_count": 13,
   "metadata": {},
   "outputs": [],
   "source": [
    "def compute_acc(model, data_loader, device):\n",
    "    correct_pred, num_examples = 0, 0\n",
    "    model.eval()\n",
    "    for i, (features, targets) in enumerate(data_loader):\n",
    "\n",
    "        features = features.to(device)\n",
    "        targets = targets.to(device)\n",
    "\n",
    "        logits, probas = model(features)\n",
    "        _, predicted_labels = torch.max(probas, 1)\n",
    "        num_examples += targets.size(0)\n",
    "        assert predicted_labels.size() == targets.size()\n",
    "        correct_pred += (predicted_labels == targets).sum()\n",
    "    return correct_pred.float()/num_examples * 100"
   ]
  },
  {
   "cell_type": "code",
   "execution_count": 14,
   "metadata": {},
   "outputs": [],
   "source": [
    "import time\n",
    "\n",
    "def do_train(model, criterion, optimizer, NUM_EPOCHS = 20, current_lr = 0.01):\n",
    "    start_time = time.time()\n",
    "\n",
    "    cost_list = []\n",
    "    train_acc_list, valid_acc_list = [], []\n",
    "    \n",
    "    best_acc = 0.00\n",
    "    path = \"./models/densenet/densenet_best.pt\"\n",
    "\n",
    "    for epoch in range(NUM_EPOCHS):\n",
    "\n",
    "        model.train()\n",
    "        for batch_idx, (features, targets) in enumerate(train_loader):\n",
    "\n",
    "            features = features.to(device)\n",
    "            targets = targets.to(device)\n",
    "\n",
    "            ### FORWARD AND BACK PROP\n",
    "            logits, probas = model(features)\n",
    "            cost = criterion(logits, targets)\n",
    "            optimizer.zero_grad()\n",
    "\n",
    "            cost.backward()\n",
    "\n",
    "            ### UPDATE MODEL PARAMETERS\n",
    "            optimizer.step()\n",
    "\n",
    "            #################################################\n",
    "            ### CODE ONLY FOR LOGGING BEYOND THIS POINT\n",
    "            ################################################\n",
    "            cost_list.append(cost.item())\n",
    "            if not batch_idx % 150:\n",
    "                print (f'Epoch: {epoch+1:03d}/{NUM_EPOCHS:03d} | '\n",
    "                       f'Batch {batch_idx:03d}/{len(train_loader):03d} |'\n",
    "                       f' Cost: {cost:.4f}')\n",
    "\n",
    "        model.eval()\n",
    "        with torch.set_grad_enabled(False): # save memory during inference\n",
    "\n",
    "            train_acc = compute_acc(model, train_loader, device=device)\n",
    "            valid_acc = compute_acc(model, test_loader, device=device)\n",
    "\n",
    "            print(f'Epoch: {epoch+1:03d}/{NUM_EPOCHS:03d}\\n'\n",
    "                  f'Train ACC: {train_acc:.2f} | Validation ACC: {valid_acc:.2f}')\n",
    "\n",
    "            if valid_acc > best_acc:\n",
    "                best_acc = valid_acc\n",
    "                torch.save(model.state_dict(), path)\n",
    "                print(f\"best acc, saving model...\")\n",
    "            else:\n",
    "                model.load_state_dict(torch.load(path))\n",
    "                print(f\"lower acc, reloading model...\")\n",
    "\n",
    "            train_acc_list.append(train_acc)\n",
    "            valid_acc_list.append(valid_acc)\n",
    "\n",
    "        elapsed = (time.time() - start_time)/60\n",
    "        print(f'Time elapsed: {elapsed:.2f} min')\n",
    "\n",
    "    elapsed = (time.time() - start_time)/60\n",
    "    print(f'Total Training Time: {elapsed:.2f} min')"
   ]
  },
  {
   "cell_type": "code",
   "execution_count": 15,
   "metadata": {},
   "outputs": [
    {
     "name": "stdout",
     "output_type": "stream",
     "text": [
      "Epoch: 001/050 | Batch 000/391 | Cost: 2.3199\n",
      "Epoch: 001/050 | Batch 150/391 | Cost: 1.7787\n",
      "Epoch: 001/050 | Batch 300/391 | Cost: 1.6564\n",
      "Epoch: 001/050\n",
      "Train ACC: 41.60 | Validation ACC: 39.93\n",
      "best acc, saving model...\n",
      "Time elapsed: 3.10 min\n",
      "Epoch: 002/050 | Batch 000/391 | Cost: 1.5512\n",
      "Epoch: 002/050 | Batch 150/391 | Cost: 1.2055\n",
      "Epoch: 002/050 | Batch 300/391 | Cost: 1.5674\n",
      "Epoch: 002/050\n",
      "Train ACC: 59.01 | Validation ACC: 59.32\n",
      "best acc, saving model...\n",
      "Time elapsed: 6.52 min\n",
      "Epoch: 003/050 | Batch 000/391 | Cost: 1.2528\n",
      "Epoch: 003/050 | Batch 150/391 | Cost: 1.0436\n",
      "Epoch: 003/050 | Batch 300/391 | Cost: 0.9910\n",
      "Epoch: 003/050\n",
      "Train ACC: 61.46 | Validation ACC: 60.19\n",
      "best acc, saving model...\n",
      "Time elapsed: 10.12 min\n",
      "Epoch: 004/050 | Batch 000/391 | Cost: 1.0952\n",
      "Epoch: 004/050 | Batch 150/391 | Cost: 0.8304\n",
      "Epoch: 004/050 | Batch 300/391 | Cost: 0.7360\n",
      "Epoch: 004/050\n",
      "Train ACC: 70.98 | Validation ACC: 70.26\n",
      "best acc, saving model...\n",
      "Time elapsed: 13.97 min\n",
      "Epoch: 005/050 | Batch 000/391 | Cost: 0.6742\n",
      "Epoch: 005/050 | Batch 150/391 | Cost: 0.6706\n",
      "Epoch: 005/050 | Batch 300/391 | Cost: 0.6225\n",
      "Epoch: 005/050\n",
      "Train ACC: 74.45 | Validation ACC: 73.96\n",
      "best acc, saving model...\n",
      "Time elapsed: 17.76 min\n",
      "Epoch: 006/050 | Batch 000/391 | Cost: 0.7054\n",
      "Epoch: 006/050 | Batch 150/391 | Cost: 0.5157\n",
      "Epoch: 006/050 | Batch 300/391 | Cost: 0.6096\n",
      "Epoch: 006/050\n",
      "Train ACC: 77.15 | Validation ACC: 75.93\n",
      "best acc, saving model...\n",
      "Time elapsed: 21.52 min\n",
      "Epoch: 007/050 | Batch 000/391 | Cost: 0.5773\n",
      "Epoch: 007/050 | Batch 150/391 | Cost: 0.6562\n",
      "Epoch: 007/050 | Batch 300/391 | Cost: 0.4737\n",
      "Epoch: 007/050\n",
      "Train ACC: 79.04 | Validation ACC: 77.65\n",
      "best acc, saving model...\n",
      "Time elapsed: 25.20 min\n",
      "Epoch: 008/050 | Batch 000/391 | Cost: 0.5471\n",
      "Epoch: 008/050 | Batch 150/391 | Cost: 0.4799\n",
      "Epoch: 008/050 | Batch 300/391 | Cost: 0.4593\n",
      "Epoch: 008/050\n",
      "Train ACC: 81.51 | Validation ACC: 80.09\n",
      "best acc, saving model...\n",
      "Time elapsed: 28.84 min\n",
      "Epoch: 009/050 | Batch 000/391 | Cost: 0.4514\n",
      "Epoch: 009/050 | Batch 150/391 | Cost: 0.4231\n",
      "Epoch: 009/050 | Batch 300/391 | Cost: 0.5340\n",
      "Epoch: 009/050\n",
      "Train ACC: 81.23 | Validation ACC: 79.72\n",
      "lower acc, reloading model...\n",
      "Time elapsed: 32.47 min\n",
      "Epoch: 010/050 | Batch 000/391 | Cost: 0.4980\n",
      "Epoch: 010/050 | Batch 150/391 | Cost: 0.4648\n",
      "Epoch: 010/050 | Batch 300/391 | Cost: 0.4395\n",
      "Epoch: 010/050\n",
      "Train ACC: 82.01 | Validation ACC: 79.96\n",
      "lower acc, reloading model...\n",
      "Time elapsed: 36.01 min\n",
      "Epoch: 011/050 | Batch 000/391 | Cost: 0.6014\n"
     ]
    },
    {
     "ename": "KeyboardInterrupt",
     "evalue": "",
     "output_type": "error",
     "traceback": [
      "\u001B[1;31m---------------------------------------------------------------------------\u001B[0m",
      "\u001B[1;31mKeyboardInterrupt\u001B[0m                         Traceback (most recent call last)",
      "Cell \u001B[1;32mIn[15], line 1\u001B[0m\n\u001B[1;32m----> 1\u001B[0m \u001B[43mdo_train\u001B[49m\u001B[43m(\u001B[49m\u001B[43mmodel\u001B[49m\u001B[43m,\u001B[49m\u001B[43m \u001B[49m\u001B[43mcriterion\u001B[49m\u001B[43m,\u001B[49m\u001B[43m \u001B[49m\u001B[43moptimizer\u001B[49m\u001B[43m,\u001B[49m\u001B[43m \u001B[49m\u001B[43mNUM_EPOCHS\u001B[49m\u001B[38;5;241;43m=\u001B[39;49m\u001B[38;5;241;43m50\u001B[39;49m\u001B[43m)\u001B[49m\n",
      "Cell \u001B[1;32mIn[14], line 33\u001B[0m, in \u001B[0;36mdo_train\u001B[1;34m(model, criterion, optimizer, NUM_EPOCHS, current_lr)\u001B[0m\n\u001B[0;32m     28\u001B[0m optimizer\u001B[38;5;241m.\u001B[39mstep()\n\u001B[0;32m     30\u001B[0m \u001B[38;5;66;03m#################################################\u001B[39;00m\n\u001B[0;32m     31\u001B[0m \u001B[38;5;66;03m### CODE ONLY FOR LOGGING BEYOND THIS POINT\u001B[39;00m\n\u001B[0;32m     32\u001B[0m \u001B[38;5;66;03m################################################\u001B[39;00m\n\u001B[1;32m---> 33\u001B[0m cost_list\u001B[38;5;241m.\u001B[39mappend(\u001B[43mcost\u001B[49m\u001B[38;5;241;43m.\u001B[39;49m\u001B[43mitem\u001B[49m\u001B[43m(\u001B[49m\u001B[43m)\u001B[49m)\n\u001B[0;32m     34\u001B[0m \u001B[38;5;28;01mif\u001B[39;00m \u001B[38;5;129;01mnot\u001B[39;00m batch_idx \u001B[38;5;241m%\u001B[39m \u001B[38;5;241m150\u001B[39m:\n\u001B[0;32m     35\u001B[0m     \u001B[38;5;28mprint\u001B[39m (\u001B[38;5;124mf\u001B[39m\u001B[38;5;124m'\u001B[39m\u001B[38;5;124mEpoch: \u001B[39m\u001B[38;5;132;01m{\u001B[39;00mepoch\u001B[38;5;241m+\u001B[39m\u001B[38;5;241m1\u001B[39m\u001B[38;5;132;01m:\u001B[39;00m\u001B[38;5;124m03d\u001B[39m\u001B[38;5;132;01m}\u001B[39;00m\u001B[38;5;124m/\u001B[39m\u001B[38;5;132;01m{\u001B[39;00mNUM_EPOCHS\u001B[38;5;132;01m:\u001B[39;00m\u001B[38;5;124m03d\u001B[39m\u001B[38;5;132;01m}\u001B[39;00m\u001B[38;5;124m | \u001B[39m\u001B[38;5;124m'\u001B[39m\n\u001B[0;32m     36\u001B[0m            \u001B[38;5;124mf\u001B[39m\u001B[38;5;124m'\u001B[39m\u001B[38;5;124mBatch \u001B[39m\u001B[38;5;132;01m{\u001B[39;00mbatch_idx\u001B[38;5;132;01m:\u001B[39;00m\u001B[38;5;124m03d\u001B[39m\u001B[38;5;132;01m}\u001B[39;00m\u001B[38;5;124m/\u001B[39m\u001B[38;5;132;01m{\u001B[39;00m\u001B[38;5;28mlen\u001B[39m(train_loader)\u001B[38;5;132;01m:\u001B[39;00m\u001B[38;5;124m03d\u001B[39m\u001B[38;5;132;01m}\u001B[39;00m\u001B[38;5;124m |\u001B[39m\u001B[38;5;124m'\u001B[39m\n\u001B[0;32m     37\u001B[0m            \u001B[38;5;124mf\u001B[39m\u001B[38;5;124m'\u001B[39m\u001B[38;5;124m Cost: \u001B[39m\u001B[38;5;132;01m{\u001B[39;00mcost\u001B[38;5;132;01m:\u001B[39;00m\u001B[38;5;124m.4f\u001B[39m\u001B[38;5;132;01m}\u001B[39;00m\u001B[38;5;124m'\u001B[39m)\n",
      "\u001B[1;31mKeyboardInterrupt\u001B[0m: "
     ]
    }
   ],
   "source": [
    "do_train(model, criterion, optimizer, NUM_EPOCHS=10)"
   ]
  },
  {
   "cell_type": "code",
   "execution_count": 17,
   "outputs": [
    {
     "name": "stdout",
     "output_type": "stream",
     "text": [
      "Epoch: 001/005 | Batch 000/391 | Cost: 0.5593\n",
      "Epoch: 001/005 | Batch 150/391 | Cost: 0.3869\n",
      "Epoch: 001/005 | Batch 300/391 | Cost: 0.4864\n",
      "Epoch: 001/005\n",
      "Train ACC: 89.70 | Validation ACC: 87.51\n",
      "best acc, saving model...\n",
      "Time elapsed: 3.66 min\n",
      "Epoch: 002/005 | Batch 000/391 | Cost: 0.4104\n",
      "Epoch: 002/005 | Batch 150/391 | Cost: 0.3191\n",
      "Epoch: 002/005 | Batch 300/391 | Cost: 0.4251\n",
      "Epoch: 002/005\n",
      "Train ACC: 90.60 | Validation ACC: 88.26\n",
      "best acc, saving model...\n",
      "Time elapsed: 7.34 min\n",
      "Epoch: 003/005 | Batch 000/391 | Cost: 0.3455\n",
      "Epoch: 003/005 | Batch 150/391 | Cost: 0.3053\n",
      "Epoch: 003/005 | Batch 300/391 | Cost: 0.2899\n",
      "Epoch: 003/005\n",
      "Train ACC: 91.29 | Validation ACC: 88.72\n",
      "best acc, saving model...\n",
      "Time elapsed: 11.07 min\n",
      "Epoch: 004/005 | Batch 000/391 | Cost: 0.3403\n",
      "Epoch: 004/005 | Batch 150/391 | Cost: 0.4553\n",
      "Epoch: 004/005 | Batch 300/391 | Cost: 0.2650\n",
      "Epoch: 004/005\n",
      "Train ACC: 91.75 | Validation ACC: 89.14\n",
      "best acc, saving model...\n",
      "Time elapsed: 14.83 min\n",
      "Epoch: 005/005 | Batch 000/391 | Cost: 0.3099\n",
      "Epoch: 005/005 | Batch 150/391 | Cost: 0.2931\n",
      "Epoch: 005/005 | Batch 300/391 | Cost: 0.2668\n",
      "Epoch: 005/005\n",
      "Train ACC: 92.30 | Validation ACC: 89.21\n",
      "best acc, saving model...\n",
      "Time elapsed: 18.46 min\n",
      "Total Training Time: 18.46 min\n"
     ]
    }
   ],
   "source": [
    "current_lr = 0.01\n",
    "optimizer = torch.optim.SGD(model.parameters(), lr=current_lr, momentum=0.8, weight_decay=5e-4)\n",
    "do_train(model, criterion, optimizer, NUM_EPOCHS=5)"
   ],
   "metadata": {
    "collapsed": false,
    "ExecuteTime": {
     "end_time": "2024-04-18T01:25:31.538787500Z",
     "start_time": "2024-04-18T01:07:03.739849100Z"
    }
   }
  },
  {
   "cell_type": "code",
   "execution_count": 18,
   "outputs": [
    {
     "name": "stdout",
     "output_type": "stream",
     "text": [
      "Epoch: 001/005 | Batch 000/391 | Cost: 0.2096\n",
      "Epoch: 001/005 | Batch 150/391 | Cost: 0.1881\n",
      "Epoch: 001/005 | Batch 300/391 | Cost: 0.1710\n",
      "Epoch: 001/005\n",
      "Train ACC: 92.64 | Validation ACC: 89.49\n",
      "best acc, saving model...\n",
      "Time elapsed: 3.66 min\n",
      "Epoch: 002/005 | Batch 000/391 | Cost: 0.3297\n",
      "Epoch: 002/005 | Batch 150/391 | Cost: 0.1924\n",
      "Epoch: 002/005 | Batch 300/391 | Cost: 0.2226\n",
      "Epoch: 002/005\n",
      "Train ACC: 92.91 | Validation ACC: 89.65\n",
      "best acc, saving model...\n",
      "Time elapsed: 7.55 min\n",
      "Epoch: 003/005 | Batch 000/391 | Cost: 0.2199\n",
      "Epoch: 003/005 | Batch 150/391 | Cost: 0.2706\n",
      "Epoch: 003/005 | Batch 300/391 | Cost: 0.2738\n",
      "Epoch: 003/005\n",
      "Train ACC: 93.07 | Validation ACC: 89.70\n",
      "best acc, saving model...\n",
      "Time elapsed: 11.71 min\n",
      "Epoch: 004/005 | Batch 000/391 | Cost: 0.2355\n",
      "Epoch: 004/005 | Batch 150/391 | Cost: 0.1946\n",
      "Epoch: 004/005 | Batch 300/391 | Cost: 0.3606\n",
      "Epoch: 004/005\n",
      "Train ACC: 93.19 | Validation ACC: 89.90\n",
      "best acc, saving model...\n",
      "Time elapsed: 15.91 min\n",
      "Epoch: 005/005 | Batch 000/391 | Cost: 0.2842\n",
      "Epoch: 005/005 | Batch 150/391 | Cost: 0.2195\n",
      "Epoch: 005/005 | Batch 300/391 | Cost: 0.2599\n",
      "Epoch: 005/005\n",
      "Train ACC: 93.65 | Validation ACC: 89.97\n",
      "best acc, saving model...\n",
      "Time elapsed: 19.72 min\n",
      "Total Training Time: 19.72 min\n"
     ]
    }
   ],
   "source": [
    "current_lr = 0.005\n",
    "optimizer = torch.optim.SGD(model.parameters(), lr=current_lr, momentum=0.8, weight_decay=5e-4)\n",
    "do_train(model, criterion, optimizer, NUM_EPOCHS=5)"
   ],
   "metadata": {
    "collapsed": false,
    "ExecuteTime": {
     "end_time": "2024-04-18T01:45:21.759469900Z",
     "start_time": "2024-04-18T01:25:38.430786800Z"
    }
   }
  },
  {
   "cell_type": "code",
   "execution_count": 19,
   "outputs": [
    {
     "name": "stdout",
     "output_type": "stream",
     "text": [
      "Epoch: 001/002 | Batch 000/391 | Cost: 0.1691\n",
      "Epoch: 001/002 | Batch 150/391 | Cost: 0.2500\n",
      "Epoch: 001/002 | Batch 300/391 | Cost: 0.2109\n",
      "Epoch: 001/002\n",
      "Train ACC: 93.67 | Validation ACC: 89.97\n",
      "best acc, saving model...\n",
      "Time elapsed: 3.86 min\n",
      "Epoch: 002/002 | Batch 000/391 | Cost: 0.0973\n",
      "Epoch: 002/002 | Batch 150/391 | Cost: 0.2263\n",
      "Epoch: 002/002 | Batch 300/391 | Cost: 0.2199\n",
      "Epoch: 002/002\n",
      "Train ACC: 93.81 | Validation ACC: 90.18\n",
      "best acc, saving model...\n",
      "Time elapsed: 8.17 min\n",
      "Total Training Time: 8.17 min\n"
     ]
    }
   ],
   "source": [
    "current_lr = 0.0005\n",
    "optimizer = torch.optim.SGD(model.parameters(), lr=current_lr, momentum=0.9)\n",
    "do_train(model, criterion, optimizer, NUM_EPOCHS=2)"
   ],
   "metadata": {
    "collapsed": false,
    "ExecuteTime": {
     "end_time": "2024-04-18T01:53:50.990702700Z",
     "start_time": "2024-04-18T01:45:41.049593200Z"
    }
   }
  },
  {
   "cell_type": "markdown",
   "metadata": {},
   "source": [
    "## See the results"
   ]
  },
  {
   "cell_type": "code",
   "execution_count": 20,
   "metadata": {
    "ExecuteTime": {
     "end_time": "2024-04-18T01:54:36.875964200Z",
     "start_time": "2024-04-18T01:54:36.834867700Z"
    }
   },
   "outputs": [
    {
     "data": {
      "text/plain": "(torch.Size([128, 3, 32, 32]), torch.Size([128]))"
     },
     "execution_count": 20,
     "metadata": {},
     "output_type": "execute_result"
    }
   ],
   "source": [
    "inputs, classes = next(iter(test_loader))\n",
    "inputs, classes = inputs.to(device), classes.to(device)\n",
    "inputs.shape, classes.shape"
   ]
  },
  {
   "cell_type": "code",
   "execution_count": 21,
   "metadata": {
    "ExecuteTime": {
     "end_time": "2024-04-18T01:54:37.989242200Z",
     "start_time": "2024-04-18T01:54:37.928761400Z"
    }
   },
   "outputs": [
    {
     "data": {
      "text/plain": "torch.Size([128, 10])"
     },
     "execution_count": 21,
     "metadata": {},
     "output_type": "execute_result"
    }
   ],
   "source": [
    "model.eval()\n",
    "model_preds, _ = model(inputs)\n",
    "model_preds.shape"
   ]
  },
  {
   "cell_type": "code",
   "execution_count": 22,
   "metadata": {
    "ExecuteTime": {
     "end_time": "2024-04-18T01:54:39.479335Z",
     "start_time": "2024-04-18T01:54:39.462615900Z"
    }
   },
   "outputs": [
    {
     "data": {
      "text/plain": "torch.Size([128])"
     },
     "execution_count": 22,
     "metadata": {},
     "output_type": "execute_result"
    }
   ],
   "source": [
    "_, predicts = torch.max(model_preds.data, dim=1)\n",
    "predicts.shape"
   ]
  },
  {
   "cell_type": "code",
   "execution_count": 23,
   "metadata": {
    "ExecuteTime": {
     "end_time": "2024-04-18T01:54:40.664609900Z",
     "start_time": "2024-04-18T01:54:40.642988800Z"
    }
   },
   "outputs": [],
   "source": [
    "# Then we can compare the predicted from model and the real labels\n",
    "\n",
    "total_classes = ('plane', 'car', 'bird', 'cat',\n",
    "           'deer', 'dog', 'frog', 'horse', 'ship', 'truck')\n",
    "\n",
    "def see_one_comparison(x, y, predictions, index):\n",
    "    x = x[index]\n",
    "    y = y[index]\n",
    "    prediction = predictions[index]\n",
    "\n",
    "    print(f\"Real Label: {total_classes[int(y)]} predicted label: {total_classes[int(prediction)]}\")\n",
    "\n",
    "    x = x.squeeze(0)\n",
    "    print(x.shape)\n",
    "    x = x.permute(1, 2, 0)  # (3, 32, 32) -> (32, 32, 3)\n",
    "    print(x.shape)\n",
    "    plt.imshow(x.cpu().detach().numpy())"
   ]
  },
  {
   "cell_type": "code",
   "execution_count": 24,
   "metadata": {
    "ExecuteTime": {
     "end_time": "2024-04-18T01:54:42.032223500Z",
     "start_time": "2024-04-18T01:54:41.847416100Z"
    }
   },
   "outputs": [
    {
     "name": "stderr",
     "output_type": "stream",
     "text": [
      "Clipping input data to the valid range for imshow with RGB data ([0..1] for floats or [0..255] for integers).\n"
     ]
    },
    {
     "name": "stdout",
     "output_type": "stream",
     "text": [
      "Real Label: cat predicted label: cat\n",
      "torch.Size([3, 32, 32])\n",
      "torch.Size([32, 32, 3])\n"
     ]
    },
    {
     "data": {
      "text/plain": "<Figure size 640x480 with 1 Axes>",
      "image/png": "[encoded data removed]"
     },
     "metadata": {},
     "output_type": "display_data"
    }
   ],
   "source": [
    "see_one_comparison(inputs, classes, predicts, 0)"
   ]
  },
  {
   "cell_type": "code",
   "execution_count": 25,
   "metadata": {
    "ExecuteTime": {
     "end_time": "2024-04-18T01:54:43.816401100Z",
     "start_time": "2024-04-18T01:54:43.706576300Z"
    }
   },
   "outputs": [
    {
     "name": "stderr",
     "output_type": "stream",
     "text": [
      "Clipping input data to the valid range for imshow with RGB data ([0..1] for floats or [0..255] for integers).\n"
     ]
    },
    {
     "name": "stdout",
     "output_type": "stream",
     "text": [
      "Real Label: ship predicted label: ship\n",
      "torch.Size([3, 32, 32])\n",
      "torch.Size([32, 32, 3])\n"
     ]
    },
    {
     "data": {
      "text/plain": "<Figure size 640x480 with 1 Axes>",
      "image/png": "[encoded data removed]"
     },
     "metadata": {},
     "output_type": "display_data"
    }
   ],
   "source": [
    "see_one_comparison(inputs, classes, predicts, 1)"
   ]
  },
  {
   "cell_type": "code",
   "execution_count": 27,
   "metadata": {
    "ExecuteTime": {
     "end_time": "2024-04-18T01:54:51.240253900Z",
     "start_time": "2024-04-18T01:54:51.126179500Z"
    }
   },
   "outputs": [
    {
     "name": "stderr",
     "output_type": "stream",
     "text": [
      "Clipping input data to the valid range for imshow with RGB data ([0..1] for floats or [0..255] for integers).\n"
     ]
    },
    {
     "name": "stdout",
     "output_type": "stream",
     "text": [
      "Real Label: frog predicted label: frog\n",
      "torch.Size([3, 32, 32])\n",
      "torch.Size([32, 32, 3])\n"
     ]
    },
    {
     "data": {
      "text/plain": "<Figure size 640x480 with 1 Axes>",
      "image/png": "[encoded data removed]"
     },
     "metadata": {},
     "output_type": "display_data"
    }
   ],
   "source": [
    "see_one_comparison(inputs, classes, predicts, 5)"
   ]
  },
  {
   "cell_type": "code",
   "execution_count": 28,
   "metadata": {
    "ExecuteTime": {
     "end_time": "2024-04-18T01:55:09.798500500Z",
     "start_time": "2024-04-18T01:55:08.653457100Z"
    }
   },
   "outputs": [],
   "source": [
    "torch.save(model.state_dict(), './models/densenet/densenet121_90_acc.pt')"
   ]
  },
  {
   "cell_type": "code",
   "execution_count": null,
   "metadata": {},
   "outputs": [],
   "source": [
    "# model.load_state_dict(torch.load('./models/densenet/densenet121_20240416_01.pt'))"
   ]
  }
 ],
 "metadata": {
  "kernelspec": {
   "display_name": "Python 3 (ipykernel)",
   "language": "python",
   "name": "python3"
  },
  "language_info": {
   "codemirror_mode": {
    "name": "ipython",
    "version": 3
   },
   "file_extension": ".py",
   "mimetype": "text/x-python",
   "name": "python",
   "nbconvert_exporter": "python",
   "pygments_lexer": "ipython3",
   "version": "3.10.6"
  }
 },
 "nbformat": 4,
 "nbformat_minor": 1
}
